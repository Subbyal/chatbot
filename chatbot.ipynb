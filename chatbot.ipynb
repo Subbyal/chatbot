{
 "cells": [
  {
   "cell_type": "code",
   "execution_count": 1,
   "metadata": {},
   "outputs": [
    {
     "name": "stdout",
     "output_type": "stream",
     "text": [
      "Job Search Chatbot\n",
      "No job listings found for the given criteria.\n",
      "No job listings found for the given criteria.\n"
     ]
    }
   ],
   "source": [
    "import requests\n",
    "from bs4 import BeautifulSoup\n",
    "\n",
    "def scrape_jobs(job_title, qualification):\n",
    "    base_url = f'https://scrapeops.io/python-web-scraping-playbook/python-indeed-scraper/?job_title={job_title}&qualification={qualification}'\n",
    "\n",
    "    headers = {\n",
    "        'User-Agent': 'Mozilla/5.0 (Windows NT 10.0; Win64; x64) AppleWebKit/537.36 (KHTML, like Gecko) Chrome/106.0.61.0 Safari/537.36'\n",
    "    }\n",
    "\n",
    "    job_listings = []\n",
    "\n",
    "    page = 1\n",
    "    while True:\n",
    "        query_url = f'{base_url}&page={page}'\n",
    "        response = requests.get(query_url, headers=headers)\n",
    "\n",
    "        if response.status_code == 200:\n",
    "            soup = BeautifulSoup(response.text, 'html.parser')\n",
    "            job_listings_on_page = soup.find_all('div', class_='job-listing')\n",
    "            if not job_listings_on_page:\n",
    "                break  # No more job listings on subsequent pages\n",
    "            job_listings.extend(job_listings_on_page)\n",
    "            page += 1\n",
    "        else:\n",
    "            break  # Stop if there's an issue with the request\n",
    "\n",
    "    return job_listings\n",
    "\n",
    "def display_jobs(job_listings):\n",
    "    if job_listings:\n",
    "        for index, job in enumerate(job_listings, start=1):\n",
    "            title = job.find('h2', class_='job-title').text\n",
    "            company = job.find('span', class_='company-name').text\n",
    "            qualification = job.find('div', class_='qualification').text\n",
    "            link = job.find('a', href=True)['href']\n",
    "            print(f\"Job {index}:\\nTitle: {title}\\nCompany: {company}\\nQualification: {qualification}\\nLink: {link}\\n\")\n",
    "\n",
    "def chatbot():\n",
    "    print(\"Job Search Chatbot\")\n",
    "    while True:\n",
    "        job_title = input(\"Enter the job title: \")\n",
    "        qualification = input(\"Enter the qualification: \")\n",
    "\n",
    "        job_listings = scrape_jobs(job_title, qualification)\n",
    "\n",
    "        if job_listings:\n",
    "            display_jobs(job_listings)\n",
    "        else:\n",
    "            print(\"No job listings found for the given criteria.\")\n",
    "\n",
    "if __name__ == \"__main__\":\n",
    "    chatbot()\n",
    "\n"
   ]
  }
 ],
 "metadata": {
  "kernelspec": {
   "display_name": "Python 3",
   "language": "python",
   "name": "python3"
  },
  "language_info": {
   "codemirror_mode": {
    "name": "ipython",
    "version": 3
   },
   "file_extension": ".py",
   "mimetype": "text/x-python",
   "name": "python",
   "nbconvert_exporter": "python",
   "pygments_lexer": "ipython3",
   "version": "3.7.8"
  }
 },
 "nbformat": 4,
 "nbformat_minor": 2
}
